{
 "cells": [
  {
   "cell_type": "code",
   "execution_count": 221,
   "id": "37f8db8d-6fff-4236-b6a8-7fa31e93c0d3",
   "metadata": {},
   "outputs": [],
   "source": [
    "import requests\n",
    "import json\n",
    "import pandas as pd\n",
    "\n",
    "# locations is a dictionary of location names and coordinates\n",
    "# coordinates in order [longitude, latitude]\n",
    "# sources and dests are lists of location names\n",
    "# gets driving distances\n",
    "def get_locations_and_distances(locations: dict, source_names: list, dest_names: list, *, key: str = None, server: str='https://api.openrouteservice.org/v2/matrix/driving-car'):\n",
    "    # remove duplicates\n",
    "    source_names= list(set(source_names))\n",
    "    dest_names= list(set(dest_names))\n",
    "    \n",
    "    # list of location coordinates to be passed into helper\n",
    "    loc_coordinates= []\n",
    "    # iterator initialized at zero which will help build the index lists to be passed into helper\n",
    "    # make list of source indices\n",
    "    source_index= []\n",
    "    for i, s in enumerate(source_names):\n",
    "        temp= locations.get(s)\n",
    "        # if the location is not in the locations dictionary, raise exception\n",
    "        if temp == None:\n",
    "            raise Exception(f\"Source site '{s}' not found in locations\") \n",
    "        # add the coordinate matching the source 's'\n",
    "        loc_coordinates.append(temp)\n",
    "        source_index.append(i)\n",
    "    source_count = len(source_names)\n",
    "        \n",
    "    # make list of dest indices\n",
    "    dest_index= []\n",
    "    for i, d in enumerate(dest_names):\n",
    "        temp= locations.get(d)\n",
    "        # if the location is not in the locations dictionary, raise exception\n",
    "        if temp == None:\n",
    "            raise Exception(f\"Destination site '{d}' not found in locations\")\n",
    "            \n",
    "        # add the coordinate matching the destination 'd'\n",
    "        loc_coordinates.append(temp)\n",
    "        dest_index.append(i+source_count)\n",
    "    \n",
    "    # call the helper to get the distances as a list\n",
    "    return (source_names, dest_names, get_distances_helper(loc_coordinates, source_index, dest_index, server, key))\n",
    "    \n",
    "def convert_to_df(source_names, dest_names, distances):\n",
    "    # convert list of distances to pandas dataframe\n",
    "    values= []\n",
    "    for source, dist in zip(source_names, distances):\n",
    "        these_values= {'source': source}\n",
    "        for dest, d in zip(dest_names, dist):\n",
    "            these_values[dest]= d\n",
    "        values.append(these_values)\n",
    "        \n",
    "    df= pd.DataFrame(values)\n",
    "    return df\n",
    "\n",
    "# locations should be the coordinates of each location in the list\n",
    "# sources and destinations should be lists of the indexes of the chosen locations in locations\n",
    "# key is your authorization key\n",
    "# the returned list of distances is in kilometers\n",
    "def get_distances_helper(locations: list, sources: list, dests: list, server: str, key: str) -> list:\n",
    "    \n",
    "    # initialize the body\n",
    "    body = {\"locations\":locations, \"destinations\":dests, \"metrics\":[\"distance\"], \"sources\":sources}\n",
    "    \n",
    "    # initialize the headers\n",
    "    headers = {\n",
    "        'Accept': 'application/json, application/geo+json, application/gpx+xml, img/png; charset=utf-8',\n",
    "        'Content-Type': 'application/json; charset=utf-8'\n",
    "    }\n",
    "\n",
    "    if key:\n",
    "        headers['Authorization']= key\n",
    "\n",
    "    # exits if there is an error\n",
    "    # may want to revise this block to include different responses to specific errors\n",
    "    try:\n",
    "        call = requests.post(server, json=body, headers=headers)\n",
    "    except requests.exceptions.RequestException as e:\n",
    "        print(call.reason)\n",
    "    \n",
    "    # get the json of the call\n",
    "    jason = json.loads(call.text)\n",
    "    return jason['distances']\n",
    "\n",
    "def get_distances(locations: list, source_names: list, dest_names: list, *, server: str='https://api.openrouteservice.org/v2/matrix/driving-car', key: str=None, dataframe=pd.DataFrame()):\n",
    "    if dataframe.empty:\n",
    "        distances= get_locations_and_distances(locations, source_names, dest_names, key=key, server=server)\n",
    "        return convert_to_df(distances[0], distances[1], distances[2]) \n",
    "    else:\n",
    "        display(dataframe)\n",
    "        # get list of sources and destinations that are already in current dataframe\n",
    "        df_dests= dataframe.columns\n",
    "        df_sources= list(dataframe['source'])\n",
    "    \n",
    "        # use those to find all sources and destinations in the list that aren't in the current dataframe\n",
    "        new_sources= list(set(source_names).difference(set(df_sources)))\n",
    "        new_dests= list(set(dest_names).difference(set(df_dests)))\n",
    "    \n",
    "        # We need to keep track of the source and destination of each distance\n",
    "        if new_dests != []:\n",
    "            \n",
    "            new_columns= get_locations_and_distances(locations, df_sources, new_dests, key=key, server=server)\n",
    "            # add the columns\n",
    "            # for each new destination\n",
    "            for dest, dists in zip(new_columns[1], new_columns[2]):\n",
    "                # Define a dictionary with key values of\n",
    "                # an existing column and their respective\n",
    "                # value pairs as the # values for our new column.\n",
    "                dests = {}\n",
    "                for source, d in zip(new_columns[0], dists):\n",
    "                    dests[source]= d\n",
    "\n",
    "                df2= pd.DataFrame([dests])\n",
    "                # Provide 'Address' as the column name\n",
    "                dataframe= pd.merge(dataframe, df2, how=\"outer\", on=[\"source\"])\n",
    "        if new_sources != []:\n",
    "            new_rows= get_locations_and_distances(locations, new_sources, dest_names, key=key, server=server)\n",
    "            \n",
    "            # add the rows\n",
    "            # for each new source\n",
    "            for source, dists in zip(new_rows[0], new_rows[2]):\n",
    "                new_values= {'source': source}\n",
    "                for dest, d in zip(new_rows[1], dists):\n",
    "                    new_values[dest]= d\n",
    "                df2 = pd.DataFrame([new_values])\n",
    "                # dataframe.append(new_values, ignore_index=True)\n",
    "                dataframe= pd.concat([dataframe, df2], ignore_index=True)\n",
    "\n",
    "            return dataframe"
   ]
  },
  {
   "cell_type": "code",
   "execution_count": 221,
   "id": "ecd9c8b3-eb1f-4f7f-8356-db9f2c4f2e3e",
   "metadata": {},
   "outputs": [],
   "source": [
    "import requests\n",
    "import json\n",
    "import pandas as pd\n",
    "\n",
    "# locations is a dictionary of location names and coordinates\n",
    "# coordinates in order [longitude, latitude]\n",
    "# sources and dests are lists of location names\n",
    "# gets driving distances\n",
    "def get_locations_and_distances(locations: dict, source_names: list, dest_names: list, *, key: str = None, server: str='https://api.openrouteservice.org/v2/matrix/driving-car'):\n",
    "    # remove duplicates\n",
    "    source_names= list(set(source_names))\n",
    "    dest_names= list(set(dest_names))\n",
    "    \n",
    "    # list of location coordinates to be passed into helper\n",
    "    loc_coordinates= []\n",
    "    # iterator initialized at zero which will help build the index lists to be passed into helper\n",
    "    # make list of source indices\n",
    "    source_index= []\n",
    "    for i, s in enumerate(source_names):\n",
    "        temp= locations.get(s)\n",
    "        # if the location is not in the locations dictionary, raise exception\n",
    "        if temp == None:\n",
    "            raise Exception(f\"Source site '{s}' not found in locations\") \n",
    "        # add the coordinate matching the source 's'\n",
    "        loc_coordinates.append(temp)\n",
    "        source_index.append(i)\n",
    "    source_count = len(source_names)\n",
    "        \n",
    "    # make list of dest indices\n",
    "    dest_index= []\n",
    "    for i, d in enumerate(dest_names):\n",
    "        temp= locations.get(d)\n",
    "        # if the location is not in the locations dictionary, raise exception\n",
    "        if temp == None:\n",
    "            raise Exception(f\"Destination site '{d}' not found in locations\")\n",
    "            \n",
    "        # add the coordinate matching the destination 'd'\n",
    "        loc_coordinates.append(temp)\n",
    "        dest_index.append(i+source_count)\n",
    "    \n",
    "    # call the helper to get the distances as a list\n",
    "    return (source_names, dest_names, get_distances_helper(loc_coordinates, source_index, dest_index, server, key))\n",
    "    \n",
    "def convert_to_df(source_names, dest_names, distances):\n",
    "    # convert list of distances to pandas dataframe\n",
    "    values= []\n",
    "    for source, dist in zip(source_names, distances):\n",
    "        these_values= {'source': source}\n",
    "        for dest, d in zip(dest_names, dist):\n",
    "            these_values[dest]= d\n",
    "        values.append(these_values)\n",
    "        \n",
    "    df= pd.DataFrame(values)\n",
    "    return df\n",
    "\n",
    "# locations should be the coordinates of each location in the list\n",
    "# sources and destinations should be lists of the indexes of the chosen locations in locations\n",
    "# key is your authorization key\n",
    "# the returned list of distances is in kilometers\n",
    "def get_distances_helper(locations: list, sources: list, dests: list, server: str, key: str) -> list:\n",
    "    \n",
    "    # initialize the body\n",
    "    body = {\"locations\":locations, \"destinations\":dests, \"metrics\":[\"distance\"], \"sources\":sources}\n",
    "    \n",
    "    # initialize the headers\n",
    "    headers = {\n",
    "        'Accept': 'application/json, application/geo+json, application/gpx+xml, img/png; charset=utf-8',\n",
    "        'Content-Type': 'application/json; charset=utf-8'\n",
    "    }\n",
    "\n",
    "    if key:\n",
    "        headers['Authorization']= key\n",
    "\n",
    "    # exits if there is an error\n",
    "    # may want to revise this block to include different responses to specific errors\n",
    "    try:\n",
    "        call = requests.post(server, json=body, headers=headers)\n",
    "    except requests.exceptions.RequestException as e:\n",
    "        print(call.reason)\n",
    "    \n",
    "    # get the json of the call\n",
    "    jason = json.loads(call.text)\n",
    "    return jason['distances']\n",
    "\n",
    "def get_distances(locations: list, source_names: list, dest_names: list, *, server: str='https://api.openrouteservice.org/v2/matrix/driving-car', key: str=None, dataframe=pd.DataFrame()):\n",
    "    if dataframe.empty:\n",
    "        distances= get_locations_and_distances(locations, source_names, dest_names, key=key, server=server)\n",
    "        return convert_to_df(distances[0], distances[1], distances[2]) \n",
    "    else:\n",
    "        display(dataframe)\n",
    "        # get list of sources and destinations that are already in current dataframe\n",
    "        df_dests= dataframe.columns\n",
    "        df_sources= list(dataframe['source'])\n",
    "    \n",
    "        # use those to find all sources and destinations in the list that aren't in the current dataframe\n",
    "        new_sources= list(set(source_names).difference(set(df_sources)))\n",
    "        new_dests= list(set(dest_names).difference(set(df_dests)))\n",
    "    \n",
    "        # We need to keep track of the source and destination of each distance\n",
    "        if new_dests != []:\n",
    "            \n",
    "            new_columns= get_locations_and_distances(locations, df_sources, new_dests, key=key, server=server)\n",
    "            # add the columns\n",
    "            # for each new destination\n",
    "            for dest, dists in zip(new_columns[1], new_columns[2]):\n",
    "                # Define a dictionary with key values of\n",
    "                # an existing column and their respective\n",
    "                # value pairs as the # values for our new column.\n",
    "                dests = {}\n",
    "                for source, d in zip(new_columns[0], dists):\n",
    "                    dests[source]= d\n",
    "\n",
    "                df2= pd.DataFrame([dests])\n",
    "                # Provide 'Address' as the column name\n",
    "                dataframe= pd.merge(dataframe, df2, how=\"outer\", on=[\"source\"])\n",
    "        if new_sources != []:\n",
    "            new_rows= get_locations_and_distances(locations, new_sources, dest_names, key=key, server=server)\n",
    "            \n",
    "            # add the rows\n",
    "            # for each new source\n",
    "            for source, dists in zip(new_rows[0], new_rows[2]):\n",
    "                new_values= {'source': source}\n",
    "                for dest, d in zip(new_rows[1], dists):\n",
    "                    new_values[dest]= d\n",
    "                df2 = pd.DataFrame([new_values])\n",
    "                # dataframe.append(new_values, ignore_index=True)\n",
    "                dataframe= pd.concat([dataframe, df2], ignore_index=True)\n",
    "\n",
    "            return dataframe"
   ]
  },
  {
   "cell_type": "code",
   "execution_count": 21,
   "id": "8d5a70ec-7098-4848-a1d1-1875e7428098",
   "metadata": {},
   "outputs": [
    {
     "name": "stdout",
     "output_type": "stream",
     "text": [
      "https://api.openrouteservice.org/v2/matrix/driving-car\n",
      "{'locations': [[-77.0391047, 38.8976763], [-76.6709638, 39.1775715], [-76.4467045, 39.0401319]], 'destinations': [0, 1], 'metrics': ['distance'], 'sources': [2]}\n"
     ]
    },
    {
     "data": {
      "text/plain": [
       "[[58381.59, 34770.79]]"
      ]
     },
     "execution_count": 21,
     "metadata": {},
     "output_type": "execute_result"
    }
   ],
   "source": [
    "get_distances_helper([[-77.0391047,38.8976763],[-76.6709638,39.1775715], [-76.4467045,39.0401319]], [2], [0, 1], 'https://api.openrouteservice.org/v2/matrix/driving-car', '5b3ce3597851110001cf624801643a3bcbdc4ebeaa0e59c7a33d9a8a') "
   ]
  },
  {
   "cell_type": "code",
   "execution_count": 197,
   "id": "79781fde-d456-4679-a30d-08f43cc08b2f",
   "metadata": {},
   "outputs": [],
   "source": [
    "locations_dict= {'home': [-76.4467045, 39.0401319],\n",
    "                  'white house': [-77.0391047,38.8976763],\n",
    "                  'airport': [-76.6709638,39.1775715]}\n",
    "\n",
    "api_key= '5b3ce3597851110001cf624801643a3bcbdc4ebeaa0e59c7a33d9a8a'\n",
    "url='http://192.168.86.27:8080/ors/v2/matrix/driving-car'\n",
    "source_names= ['home']\n",
    "dest_names= ['white house', 'airport']\n",
    "\n"
   ]
  },
  {
   "cell_type": "code",
   "execution_count": 198,
   "id": "01053339-1124-4460-b4d7-e7c12c9b5230",
   "metadata": {},
   "outputs": [
    {
     "name": "stdout",
     "output_type": "stream",
     "text": [
      "sources: ['home']\n",
      "destinations: ['airport', 'white house']\n",
      "locations: [[-76.4467045, 39.0401319], [-76.6709638, 39.1775715], [-77.0391047, 38.8976763]]\n",
      "[{'source': 'home', 'airport': 34770.79, 'white house': 58381.51}]\n"
     ]
    }
   ],
   "source": [
    "df1=get_distances(locations_dict, source_names, dest_names, server=url)"
   ]
  },
  {
   "cell_type": "code",
   "execution_count": 224,
   "id": "51126994-63e3-4df6-9fe5-54eb06011063",
   "metadata": {},
   "outputs": [
    {
     "name": "stdout",
     "output_type": "stream",
     "text": [
      "sources: ['home', 'umd']\n",
      "destinations: ['airport', 'white house']\n"
     ]
    },
    {
     "data": {
      "text/html": [
       "<div>\n",
       "<style scoped>\n",
       "    .dataframe tbody tr th:only-of-type {\n",
       "        vertical-align: middle;\n",
       "    }\n",
       "\n",
       "    .dataframe tbody tr th {\n",
       "        vertical-align: top;\n",
       "    }\n",
       "\n",
       "    .dataframe thead th {\n",
       "        text-align: right;\n",
       "    }\n",
       "</style>\n",
       "<table border=\"1\" class=\"dataframe\">\n",
       "  <thead>\n",
       "    <tr style=\"text-align: right;\">\n",
       "      <th></th>\n",
       "      <th>source</th>\n",
       "      <th>airport</th>\n",
       "      <th>white house</th>\n",
       "    </tr>\n",
       "  </thead>\n",
       "  <tbody>\n",
       "    <tr>\n",
       "      <th>0</th>\n",
       "      <td>home</td>\n",
       "      <td>34770.79</td>\n",
       "      <td>58381.51</td>\n",
       "    </tr>\n",
       "    <tr>\n",
       "      <th>1</th>\n",
       "      <td>umd</td>\n",
       "      <td>47099.41</td>\n",
       "      <td>15976.50</td>\n",
       "    </tr>\n",
       "  </tbody>\n",
       "</table>\n",
       "</div>"
      ],
      "text/plain": [
       "  source   airport  white house\n",
       "0   home  34770.79     58381.51\n",
       "1    umd  47099.41     15976.50"
      ]
     },
     "metadata": {},
     "output_type": "display_data"
    },
    {
     "name": "stdout",
     "output_type": "stream",
     "text": [
      "Index(['source', 'airport', 'white house'], dtype='object')\n",
      "3\n"
     ]
    }
   ],
   "source": [
    "# how to get destinations\n",
    "df= get_distances(locations_dict, source_names, dest_names, server=url)\n",
    "display(df)\n",
    "columns= df.columns\n",
    "# can treat columns like a list\n",
    "print(columns)\n",
    "print(len(columns))"
   ]
  },
  {
   "cell_type": "code",
   "execution_count": 100,
   "id": "4d2e23d5-0750-4062-aced-f6d996391e71",
   "metadata": {},
   "outputs": [
    {
     "name": "stdout",
     "output_type": "stream",
     "text": [
      "1\n"
     ]
    }
   ],
   "source": [
    "# how to get sources\n",
    "rows= list(df['source'])\n",
    "print(len(rows))"
   ]
  },
  {
   "cell_type": "code",
   "execution_count": 226,
   "id": "99f10f9c-ce4e-4e3e-b80c-c1eff4d98ee3",
   "metadata": {},
   "outputs": [
    {
     "data": {
      "text/html": [
       "<div>\n",
       "<style scoped>\n",
       "    .dataframe tbody tr th:only-of-type {\n",
       "        vertical-align: middle;\n",
       "    }\n",
       "\n",
       "    .dataframe tbody tr th {\n",
       "        vertical-align: top;\n",
       "    }\n",
       "\n",
       "    .dataframe thead th {\n",
       "        text-align: right;\n",
       "    }\n",
       "</style>\n",
       "<table border=\"1\" class=\"dataframe\">\n",
       "  <thead>\n",
       "    <tr style=\"text-align: right;\">\n",
       "      <th></th>\n",
       "      <th>source</th>\n",
       "      <th>airport</th>\n",
       "      <th>white house</th>\n",
       "    </tr>\n",
       "  </thead>\n",
       "  <tbody>\n",
       "    <tr>\n",
       "      <th>0</th>\n",
       "      <td>home</td>\n",
       "      <td>34770.79</td>\n",
       "      <td>58381.51</td>\n",
       "    </tr>\n",
       "    <tr>\n",
       "      <th>1</th>\n",
       "      <td>umd</td>\n",
       "      <td>47099.41</td>\n",
       "      <td>15976.50</td>\n",
       "    </tr>\n",
       "  </tbody>\n",
       "</table>\n",
       "</div>"
      ],
      "text/plain": [
       "  source   airport  white house\n",
       "0   home  34770.79     58381.51\n",
       "1    umd  47099.41     15976.50"
      ]
     },
     "metadata": {},
     "output_type": "display_data"
    }
   ],
   "source": [
    "locations_dict= {'home': [-76.4467045, 39.0401319],\n",
    "                  'white house': [-77.0391047,38.8976763],\n",
    "                  'airport': [-76.6709638,39.1775715], 'umd': [-76.9616087,38.9869183]}\n",
    "source_names= ['home', 'umd']\n",
    "dest_names= ['white house', 'airport']\n",
    "get_distances(locations_dict, source_names, dest_names, server=url, dataframe=df)"
   ]
  },
  {
   "cell_type": "code",
   "execution_count": 162,
   "id": "58db9357-9da9-4fa5-888a-56a4e0083f83",
   "metadata": {},
   "outputs": [],
   "source": [
    "# adding sources as destinations\n",
    "dict= [{'source': 'umd', 'airport': 47099.41, 'white house': 15976.5}]\n",
    "df1=pd.DataFrame(dict)"
   ]
  },
  {
   "cell_type": "code",
   "execution_count": 165,
   "id": "e9898dee-e0f7-478d-8b2c-ebe015d24436",
   "metadata": {},
   "outputs": [
    {
     "data": {
      "text/html": [
       "<div>\n",
       "<style scoped>\n",
       "    .dataframe tbody tr th:only-of-type {\n",
       "        vertical-align: middle;\n",
       "    }\n",
       "\n",
       "    .dataframe tbody tr th {\n",
       "        vertical-align: top;\n",
       "    }\n",
       "\n",
       "    .dataframe thead th {\n",
       "        text-align: right;\n",
       "    }\n",
       "</style>\n",
       "<table border=\"1\" class=\"dataframe\">\n",
       "  <thead>\n",
       "    <tr style=\"text-align: right;\">\n",
       "      <th></th>\n",
       "      <th>source</th>\n",
       "      <th>airport</th>\n",
       "      <th>white house</th>\n",
       "    </tr>\n",
       "  </thead>\n",
       "  <tbody>\n",
       "    <tr>\n",
       "      <th>0</th>\n",
       "      <td>home</td>\n",
       "      <td>34770.79</td>\n",
       "      <td>58381.51</td>\n",
       "    </tr>\n",
       "    <tr>\n",
       "      <th>1</th>\n",
       "      <td>umd</td>\n",
       "      <td>47099.41</td>\n",
       "      <td>15976.50</td>\n",
       "    </tr>\n",
       "  </tbody>\n",
       "</table>\n",
       "</div>"
      ],
      "text/plain": [
       "  source   airport  white house\n",
       "0   home  34770.79     58381.51\n",
       "1    umd  47099.41     15976.50"
      ]
     },
     "execution_count": 165,
     "metadata": {},
     "output_type": "execute_result"
    }
   ],
   "source": [
    "pd.concat([df2,df1], ignore_index=True)"
   ]
  },
  {
   "cell_type": "code",
   "execution_count": 189,
   "id": "54d160d9-b834-4255-b981-9f439e51f3c9",
   "metadata": {},
   "outputs": [
    {
     "data": {
      "text/html": [
       "<div>\n",
       "<style scoped>\n",
       "    .dataframe tbody tr th:only-of-type {\n",
       "        vertical-align: middle;\n",
       "    }\n",
       "\n",
       "    .dataframe tbody tr th {\n",
       "        vertical-align: top;\n",
       "    }\n",
       "\n",
       "    .dataframe thead th {\n",
       "        text-align: right;\n",
       "    }\n",
       "</style>\n",
       "<table border=\"1\" class=\"dataframe\">\n",
       "  <thead>\n",
       "    <tr style=\"text-align: right;\">\n",
       "      <th></th>\n",
       "      <th>source</th>\n",
       "      <th>airport</th>\n",
       "      <th>white house</th>\n",
       "    </tr>\n",
       "  </thead>\n",
       "  <tbody>\n",
       "    <tr>\n",
       "      <th>0</th>\n",
       "      <td>home</td>\n",
       "      <td>34770.79</td>\n",
       "      <td>58381.51</td>\n",
       "    </tr>\n",
       "  </tbody>\n",
       "</table>\n",
       "</div>"
      ],
      "text/plain": [
       "  source   airport  white house\n",
       "0   home  34770.79     58381.51"
      ]
     },
     "execution_count": 189,
     "metadata": {},
     "output_type": "execute_result"
    }
   ],
   "source": [
    "# adding sources works for 1 source at least\n",
    "df"
   ]
  },
  {
   "cell_type": "code",
   "execution_count": 211,
   "id": "c0a275e5-a765-4ed0-b819-8aea7b6468a7",
   "metadata": {},
   "outputs": [
    {
     "name": "stdout",
     "output_type": "stream",
     "text": [
      "sources: ['home', 'airport']\n",
      "destinations: ['umd']\n",
      "locations: [[-76.4467045, 39.0401319], [-76.6709638, 39.1775715], [-76.9616087, 38.9869183]]\n",
      "[{'source': 'home', 'umd': 52211.11}, {'source': 'airport', 'umd': 46898.64}]\n"
     ]
    },
    {
     "data": {
      "text/html": [
       "<div>\n",
       "<style scoped>\n",
       "    .dataframe tbody tr th:only-of-type {\n",
       "        vertical-align: middle;\n",
       "    }\n",
       "\n",
       "    .dataframe tbody tr th {\n",
       "        vertical-align: top;\n",
       "    }\n",
       "\n",
       "    .dataframe thead th {\n",
       "        text-align: right;\n",
       "    }\n",
       "</style>\n",
       "<table border=\"1\" class=\"dataframe\">\n",
       "  <thead>\n",
       "    <tr style=\"text-align: right;\">\n",
       "      <th></th>\n",
       "      <th>source</th>\n",
       "      <th>umd</th>\n",
       "    </tr>\n",
       "  </thead>\n",
       "  <tbody>\n",
       "    <tr>\n",
       "      <th>0</th>\n",
       "      <td>home</td>\n",
       "      <td>52211.11</td>\n",
       "    </tr>\n",
       "    <tr>\n",
       "      <th>1</th>\n",
       "      <td>airport</td>\n",
       "      <td>46898.64</td>\n",
       "    </tr>\n",
       "  </tbody>\n",
       "</table>\n",
       "</div>"
      ],
      "text/plain": [
       "    source       umd\n",
       "0     home  52211.11\n",
       "1  airport  46898.64"
      ]
     },
     "execution_count": 211,
     "metadata": {},
     "output_type": "execute_result"
    }
   ],
   "source": [
    "df2= get_distances(locations_dict, ['home','airport'], ['umd'], server=url)\n",
    "df2"
   ]
  },
  {
   "cell_type": "code",
   "execution_count": 199,
   "id": "94ddb6dd-4eb8-4d94-a0ca-1e237df77e30",
   "metadata": {},
   "outputs": [
    {
     "data": {
      "text/html": [
       "<div>\n",
       "<style scoped>\n",
       "    .dataframe tbody tr th:only-of-type {\n",
       "        vertical-align: middle;\n",
       "    }\n",
       "\n",
       "    .dataframe tbody tr th {\n",
       "        vertical-align: top;\n",
       "    }\n",
       "\n",
       "    .dataframe thead th {\n",
       "        text-align: right;\n",
       "    }\n",
       "</style>\n",
       "<table border=\"1\" class=\"dataframe\">\n",
       "  <thead>\n",
       "    <tr style=\"text-align: right;\">\n",
       "      <th></th>\n",
       "      <th>source</th>\n",
       "      <th>airport</th>\n",
       "      <th>white house</th>\n",
       "    </tr>\n",
       "  </thead>\n",
       "  <tbody>\n",
       "    <tr>\n",
       "      <th>0</th>\n",
       "      <td>home</td>\n",
       "      <td>34770.79</td>\n",
       "      <td>58381.51</td>\n",
       "    </tr>\n",
       "  </tbody>\n",
       "</table>\n",
       "</div>"
      ],
      "text/plain": [
       "  source   airport  white house\n",
       "0   home  34770.79     58381.51"
      ]
     },
     "execution_count": 199,
     "metadata": {},
     "output_type": "execute_result"
    }
   ],
   "source": [
    "df1"
   ]
  },
  {
   "cell_type": "code",
   "execution_count": 206,
   "id": "9fc280ce-631e-4afc-a04a-5d915a517504",
   "metadata": {},
   "outputs": [
    {
     "data": {
      "text/html": [
       "<div>\n",
       "<style scoped>\n",
       "    .dataframe tbody tr th:only-of-type {\n",
       "        vertical-align: middle;\n",
       "    }\n",
       "\n",
       "    .dataframe tbody tr th {\n",
       "        vertical-align: top;\n",
       "    }\n",
       "\n",
       "    .dataframe thead th {\n",
       "        text-align: right;\n",
       "    }\n",
       "</style>\n",
       "<table border=\"1\" class=\"dataframe\">\n",
       "  <thead>\n",
       "    <tr style=\"text-align: right;\">\n",
       "      <th></th>\n",
       "      <th>source</th>\n",
       "      <th>airport</th>\n",
       "      <th>white house</th>\n",
       "      <th>source</th>\n",
       "      <th>umd</th>\n",
       "    </tr>\n",
       "  </thead>\n",
       "  <tbody>\n",
       "    <tr>\n",
       "      <th>0</th>\n",
       "      <td>home</td>\n",
       "      <td>34770.79</td>\n",
       "      <td>58381.51</td>\n",
       "      <td>home</td>\n",
       "      <td>52211.11</td>\n",
       "    </tr>\n",
       "  </tbody>\n",
       "</table>\n",
       "</div>"
      ],
      "text/plain": [
       "  source   airport  white house source       umd\n",
       "0   home  34770.79     58381.51   home  52211.11"
      ]
     },
     "execution_count": 206,
     "metadata": {},
     "output_type": "execute_result"
    }
   ],
   "source": [
    "pd.concat([df1, df2], axis=1)"
   ]
  },
  {
   "cell_type": "code",
   "execution_count": 215,
   "id": "77361e83-44d7-4517-86d5-bc52abe23562",
   "metadata": {},
   "outputs": [
    {
     "data": {
      "text/html": [
       "<div>\n",
       "<style scoped>\n",
       "    .dataframe tbody tr th:only-of-type {\n",
       "        vertical-align: middle;\n",
       "    }\n",
       "\n",
       "    .dataframe tbody tr th {\n",
       "        vertical-align: top;\n",
       "    }\n",
       "\n",
       "    .dataframe thead th {\n",
       "        text-align: right;\n",
       "    }\n",
       "</style>\n",
       "<table border=\"1\" class=\"dataframe\">\n",
       "  <thead>\n",
       "    <tr style=\"text-align: right;\">\n",
       "      <th></th>\n",
       "      <th>source</th>\n",
       "      <th>airport</th>\n",
       "      <th>white house</th>\n",
       "      <th>umd</th>\n",
       "    </tr>\n",
       "  </thead>\n",
       "  <tbody>\n",
       "    <tr>\n",
       "      <th>0</th>\n",
       "      <td>home</td>\n",
       "      <td>34770.79</td>\n",
       "      <td>58381.51</td>\n",
       "      <td>52211.11</td>\n",
       "    </tr>\n",
       "    <tr>\n",
       "      <th>1</th>\n",
       "      <td>airport</td>\n",
       "      <td>NaN</td>\n",
       "      <td>NaN</td>\n",
       "      <td>46898.64</td>\n",
       "    </tr>\n",
       "  </tbody>\n",
       "</table>\n",
       "</div>"
      ],
      "text/plain": [
       "    source   airport  white house       umd\n",
       "0     home  34770.79     58381.51  52211.11\n",
       "1  airport       NaN          NaN  46898.64"
      ]
     },
     "execution_count": 215,
     "metadata": {},
     "output_type": "execute_result"
    }
   ],
   "source": [
    "pd.merge(df1, df2, how=\"outer\", on=[\"source\"])"
   ]
  },
  {
   "cell_type": "code",
   "execution_count": null,
   "id": "f914d820-a144-4e81-987e-a683a5027443",
   "metadata": {},
   "outputs": [],
   "source": []
  }
 ],
 "metadata": {
  "kernelspec": {
   "display_name": "Python 3 (ipykernel)",
   "language": "python",
   "name": "python3"
  },
  "language_info": {
   "codemirror_mode": {
    "name": "ipython",
    "version": 3
   },
   "file_extension": ".py",
   "mimetype": "text/x-python",
   "name": "python",
   "nbconvert_exporter": "python",
   "pygments_lexer": "ipython3",
   "version": "3.10.9"
  }
 },
 "nbformat": 4,
 "nbformat_minor": 5
}
